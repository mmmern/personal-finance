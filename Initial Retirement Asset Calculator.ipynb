{
 "cells": [
  {
   "cell_type": "markdown",
   "metadata": {},
   "source": [
    "# Initial Retirement Assets\n",
    "The main question when planning financially for retirement is \"How much do I need to save?\" The answer, of course, is highly dependent on a similar question, \"How much money will I need in retirement?\" \n",
    "\n",
    "Unfortunately, for many people, the single number estimate of how much money they will need is surprisingly large. Since retirement is expected to last for quite a long time, it's natural to wonder if it's reasonable to extend savings throughout retirement by investment.\n",
    "\n",
    "Well-known rules of thumb answer this. Advisors suggest drawing down 3% or 4%, based on a [thirty-year old study](http://www.retailinvestor.org/pdf/Bengen1.pdf) by William Bergen. This rule of thumb can be easily manipulated to determine how much money one should have at the beginning of retirement. However, there are hidden market, interest-rate, and portfolio assumptions behind that simple rule of thumb.\n",
    "\n",
    "Rather than rely on these hidden assumptions, you can calculate how much you'll need at the start of retirement using this notebook"
   ]
  },
  {
   "cell_type": "markdown",
   "metadata": {},
   "source": [
    "## Your assumptions"
   ]
  },
  {
   "cell_type": "code",
   "execution_count": 47,
   "metadata": {},
   "outputs": [],
   "source": [
    "years_of_retirement = 35\n",
    "annual_expenses = 40_000 # in retirement, annualized"
   ]
  },
  {
   "cell_type": "markdown",
   "metadata": {},
   "source": [
    "We'll also have to assume a real rate of return on our investment during retirement. Since we'll be playing around with different scenarios we use a list instead of single variable."
   ]
  },
  {
   "cell_type": "code",
   "execution_count": 48,
   "metadata": {},
   "outputs": [],
   "source": [
    "annual_returns = [.02] * years_of_retirement"
   ]
  },
  {
   "cell_type": "markdown",
   "metadata": {},
   "source": [
    "## Deriving the calculation\n",
    "In the simplest case, where the rate of return is constant, the calculation is fairly straightforward."
   ]
  },
  {
   "cell_type": "markdown",
   "metadata": {},
   "source": [
    "Let $P$ be the initial amount that we will have at retirement.\n",
    "Let $n$ be the number of years that retirment will last, $a$ be the annual expenses, and let $r_1, r_2, \\ldots, r_{n-1}$ be the returns in years $1, 2, \\ldots, n-1$.\n",
    "\n",
    "Then the total amount that we need is calculated as:"
   ]
  },
  {
   "cell_type": "markdown",
   "metadata": {},
   "source": [
    "\\begin{align}\n",
    "na \\leq\\: &P\\: + \\\\\n",
    "& (P-a)r_1\\: + \\\\\n",
    "& (P-2a)r_2\\: + (P-a)r_1 r_2\\: + \\\\\n",
    "& \\vdots \\\\\n",
    "& \\big(P - (n-1)a)\\big)r_{n-1}\\: + \\big(P - (n-2)a)\\big)r_{n-2}r_{n-1}\\: + \\ldots + (P - 2a)r_1r_2 \\ldots r_{n-2}\\: +(P - a)r_1r_2 \\ldots r_{n-1}\n",
    "\\end{align}"
   ]
  },
  {
   "cell_type": "markdown",
   "metadata": {},
   "source": [
    "We can simplify this by grouping the $P$ and $a$ terms, and then we can solve for $P$.\n",
    "\n",
    "\\begin{equation}\n",
    "na \\leq\\: P\\: + P\\Big(\\sum_{i=1}^{n-1} \\sum_{j=i}^{n-1} \\prod_{k=i}^j r_k\\Big) - a \\Big( \\sum_{i=1}^{n-1} i \\sum_{j=i}^{n-1} \\prod_{k=i}^j r_k\\Big) \\\\\n",
    "P \\geq \\frac{a \\Big( n + \\sum\\limits_{i=1}^{n-1} i \\sum\\limits_{j=i}^{n-1} \\prod\\limits_{k=i}^j r_k\\Big)}{1 + \\Big(\\sum\\limits_{i=1}^{n-1} \\sum\\limits_{j=i}^{n-1} \\prod\\limits_{k=i}^j r_k\\Big)}\n",
    "\\end{equation}\n",
    "\n",
    "This will be very straigtforward to calculate."
   ]
  },
  {
   "cell_type": "markdown",
   "metadata": {},
   "source": [
    "We'll first calculate the repeated inner sum that is present in both numerator and denominator."
   ]
  },
  {
   "cell_type": "code",
   "execution_count": 49,
   "metadata": {},
   "outputs": [],
   "source": [
    "import numpy as np\n",
    "\n",
    "def inner_sum(n, returns):\n",
    "    # NOTE: We very quickly lose precision here!\n",
    "    sums = np.zeros(n-1, dtype=np.longdouble)\n",
    "    # Definitely could be vectorized, but these are such small loops. \n",
    "    # Refactor if using more frequent returns (e.g. daily)\n",
    "    for i in range(1, n):\n",
    "        for j in range(i, n):\n",
    "            sums[i-1] += np.prod(returns[i:j+1])  # As above, dp would be useful if |returns| is large.\n",
    "    return sums"
   ]
  },
  {
   "cell_type": "code",
   "execution_count": 50,
   "metadata": {},
   "outputs": [],
   "source": [
    "def min_initial_amount(annual_expenses, num_years, returns):\n",
    "    insum = inner_sum(num_years, returns)\n",
    "    return annual_expenses * (num_years + np.dot(np.arange(1,num_years), insum)) / (1 + np.sum(insum))"
   ]
  },
  {
   "cell_type": "markdown",
   "metadata": {},
   "source": [
    "## Calculations\n",
    "We can now easily calculate the minimum required amount according to different assumptions"
   ]
  },
  {
   "cell_type": "code",
   "execution_count": 51,
   "metadata": {},
   "outputs": [
    {
     "data": {
      "text/plain": [
       "1113192.5273798648"
      ]
     },
     "execution_count": 51,
     "metadata": {},
     "output_type": "execute_result"
    }
   ],
   "source": [
    "min_initial_amount(annual_expenses, years_of_retirement, annual_returns)"
   ]
  },
  {
   "cell_type": "code",
   "execution_count": 52,
   "metadata": {},
   "outputs": [
    {
     "data": {
      "text/plain": [
       "1244101.2112565849"
      ]
     },
     "execution_count": 52,
     "metadata": {},
     "output_type": "execute_result"
    }
   ],
   "source": [
    "# With a linearly decreasing rate of return (from 2% to .25%)\n",
    "min_initial_amount(annual_expenses, years_of_retirement, np.linspace(.02, .0025, years_of_retirement -1))"
   ]
  },
  {
   "cell_type": "markdown",
   "metadata": {},
   "source": [
    "## Extensions\n",
    "Since picking expected rates of return is mostly a stab in the dark, we can expand this calculation by first constructing a retirement portfolio, and then doing monte carlo simulations using randomly selected historical annual rates of return of such a portfolio. "
   ]
  },
  {
   "cell_type": "code",
   "execution_count": null,
   "metadata": {},
   "outputs": [],
   "source": []
  }
 ],
 "metadata": {
  "kernelspec": {
   "display_name": "Python 3",
   "language": "python",
   "name": "python3"
  },
  "language_info": {
   "codemirror_mode": {
    "name": "ipython",
    "version": 3
   },
   "file_extension": ".py",
   "mimetype": "text/x-python",
   "name": "python",
   "nbconvert_exporter": "python",
   "pygments_lexer": "ipython3",
   "version": "3.7.6"
  }
 },
 "nbformat": 4,
 "nbformat_minor": 4
}
